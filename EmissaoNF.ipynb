{
 "cells": [
  {
   "cell_type": "code",
   "execution_count": 21,
   "id": "458b3b1d-735c-4993-a18b-ea86dfb7af81",
   "metadata": {},
   "outputs": [],
   "source": [
    "from selenium import webdriver\n",
    "from webdriver_manager.chrome import ChromeDriverManager\n",
    "from selenium.webdriver.chrome.service import Service\n",
    "from selenium.webdriver.common.by import By\n",
    "import os\n",
    "\n",
    "\n",
    "caminho = os.getcwd()\n",
    "\n",
    "options = webdriver.ChromeOptions()\n",
    "options.add_experimental_option(\"prefs\", {\n",
    "    \"download.default_directory\": caminho,\n",
    "    \"download.prompt_for_download\": False,\n",
    "    \"download.directory_upgrade\": True,  \n",
    "    \"safebrowsing.enabled\": True,\n",
    "})\n",
    "\n",
    "servico = Service(ChromeDriverManager().install())\n",
    "\n",
    "navegador = webdriver.Chrome(service=servico, options=options)\n",
    "\n",
    "arquivo = os.path.join(caminho, \"login.html\")\n",
    "navegador.get(arquivo)\n"
   ]
  },
  {
   "cell_type": "code",
   "execution_count": 19,
   "id": "ae42142f-b5a6-4286-8cca-76a41cf91e08",
   "metadata": {},
   "outputs": [],
   "source": [
    "navegador.find_element(By.XPATH, '/html/body/div/form/input[1]').send_keys('Paula@gmail.com')\n",
    "navegador.find_element(By.XPATH, '/html/body/div/form/input[2]').send_keys('123456')\n",
    "navegador.find_element(By.TAG_NAME, 'button').click()"
   ]
  },
  {
   "cell_type": "code",
   "execution_count": 15,
   "id": "1642e3b1-2e6f-48c4-9510-472ead07caf9",
   "metadata": {},
   "outputs": [
    {
     "ename": "NoSuchElementException",
     "evalue": "Message: no such element: Unable to locate element: {\"method\":\"css selector\",\"selector\":\"[name=\"nome\"]\"}\n  (Session info: chrome=136.0.7103.114); For documentation on this error, please visit: https://www.selenium.dev/documentation/webdriver/troubleshooting/errors#no-such-element-exception\nStacktrace:\n\tGetHandleVerifier [0x00F0FC83+61635]\n\tGetHandleVerifier [0x00F0FCC4+61700]\n\t(No symbol) [0x00D305D3]\n\t(No symbol) [0x00D7899E]\n\t(No symbol) [0x00D78D3B]\n\t(No symbol) [0x00DC0E12]\n\t(No symbol) [0x00D9D2E4]\n\t(No symbol) [0x00DBE61B]\n\t(No symbol) [0x00D9D096]\n\t(No symbol) [0x00D6C840]\n\t(No symbol) [0x00D6D6A4]\n\tGetHandleVerifier [0x011945A3+2701795]\n\tGetHandleVerifier [0x0118FD26+2683238]\n\tGetHandleVerifier [0x011AAA6E+2793134]\n\tGetHandleVerifier [0x00F26945+155013]\n\tGetHandleVerifier [0x00F2D02D+181357]\n\tGetHandleVerifier [0x00F174D8+92440]\n\tGetHandleVerifier [0x00F17680+92864]\n\tGetHandleVerifier [0x00F02070+5296]\n\tBaseThreadInitThunk [0x76755D49+25]\n\tRtlInitializeExceptionChain [0x77C0D03B+107]\n\tRtlGetAppContainerNamedObjectPath [0x77C0CFC1+561]\n",
     "output_type": "error",
     "traceback": [
      "\u001b[1;31m---------------------------------------------------------------------------\u001b[0m",
      "\u001b[1;31mNoSuchElementException\u001b[0m                    Traceback (most recent call last)",
      "Cell \u001b[1;32mIn[15], line 5\u001b[0m\n\u001b[0;32m      3\u001b[0m tabela \u001b[38;5;241m=\u001b[39m pd\u001b[38;5;241m.\u001b[39mread_excel(\u001b[38;5;124m\"\u001b[39m\u001b[38;5;124mNotasEmitir.xlsx\u001b[39m\u001b[38;5;124m\"\u001b[39m)\n\u001b[0;32m      4\u001b[0m \u001b[38;5;28;01mfor\u001b[39;00m linha \u001b[38;5;129;01min\u001b[39;00m tabela\u001b[38;5;241m.\u001b[39mindex:\n\u001b[1;32m----> 5\u001b[0m     navegador\u001b[38;5;241m.\u001b[39mfind_element(By\u001b[38;5;241m.\u001b[39mNAME, \u001b[38;5;124m'\u001b[39m\u001b[38;5;124mnome\u001b[39m\u001b[38;5;124m'\u001b[39m)\u001b[38;5;241m.\u001b[39msend_keys(tabela\u001b[38;5;241m.\u001b[39mloc[linha, \u001b[38;5;124m\"\u001b[39m\u001b[38;5;124mCliente\u001b[39m\u001b[38;5;124m\"\u001b[39m])\n\u001b[0;32m      6\u001b[0m     navegador\u001b[38;5;241m.\u001b[39mfind_element(By\u001b[38;5;241m.\u001b[39mNAME, \u001b[38;5;124m'\u001b[39m\u001b[38;5;124mendereco\u001b[39m\u001b[38;5;124m'\u001b[39m)\u001b[38;5;241m.\u001b[39msend_keys(tabela\u001b[38;5;241m.\u001b[39mloc[linha, \u001b[38;5;124m\"\u001b[39m\u001b[38;5;124mEndereço\u001b[39m\u001b[38;5;124m\"\u001b[39m])\n\u001b[0;32m      7\u001b[0m     navegador\u001b[38;5;241m.\u001b[39mfind_element(By\u001b[38;5;241m.\u001b[39mNAME, \u001b[38;5;124m'\u001b[39m\u001b[38;5;124mbairro\u001b[39m\u001b[38;5;124m'\u001b[39m)\u001b[38;5;241m.\u001b[39msend_keys(tabela\u001b[38;5;241m.\u001b[39mloc[linha, \u001b[38;5;124m\"\u001b[39m\u001b[38;5;124mBairro\u001b[39m\u001b[38;5;124m\"\u001b[39m])\n",
      "File \u001b[1;32m~\\anaconda3\\Lib\\site-packages\\selenium\\webdriver\\remote\\webdriver.py:898\u001b[0m, in \u001b[0;36mWebDriver.find_element\u001b[1;34m(self, by, value)\u001b[0m\n\u001b[0;32m    895\u001b[0m         \u001b[38;5;28;01mraise\u001b[39;00m NoSuchElementException(\u001b[38;5;124mf\u001b[39m\u001b[38;5;124m\"\u001b[39m\u001b[38;5;124mCannot locate relative element with: \u001b[39m\u001b[38;5;132;01m{\u001b[39;00mby\u001b[38;5;241m.\u001b[39mroot\u001b[38;5;132;01m}\u001b[39;00m\u001b[38;5;124m\"\u001b[39m)\n\u001b[0;32m    896\u001b[0m     \u001b[38;5;28;01mreturn\u001b[39;00m elements[\u001b[38;5;241m0\u001b[39m]\n\u001b[1;32m--> 898\u001b[0m \u001b[38;5;28;01mreturn\u001b[39;00m \u001b[38;5;28mself\u001b[39m\u001b[38;5;241m.\u001b[39mexecute(Command\u001b[38;5;241m.\u001b[39mFIND_ELEMENT, {\u001b[38;5;124m\"\u001b[39m\u001b[38;5;124musing\u001b[39m\u001b[38;5;124m\"\u001b[39m: by, \u001b[38;5;124m\"\u001b[39m\u001b[38;5;124mvalue\u001b[39m\u001b[38;5;124m\"\u001b[39m: value})[\u001b[38;5;124m\"\u001b[39m\u001b[38;5;124mvalue\u001b[39m\u001b[38;5;124m\"\u001b[39m]\n",
      "File \u001b[1;32m~\\anaconda3\\Lib\\site-packages\\selenium\\webdriver\\remote\\webdriver.py:429\u001b[0m, in \u001b[0;36mWebDriver.execute\u001b[1;34m(self, driver_command, params)\u001b[0m\n\u001b[0;32m    427\u001b[0m response \u001b[38;5;241m=\u001b[39m \u001b[38;5;28mself\u001b[39m\u001b[38;5;241m.\u001b[39mcommand_executor\u001b[38;5;241m.\u001b[39mexecute(driver_command, params)\n\u001b[0;32m    428\u001b[0m \u001b[38;5;28;01mif\u001b[39;00m response:\n\u001b[1;32m--> 429\u001b[0m     \u001b[38;5;28mself\u001b[39m\u001b[38;5;241m.\u001b[39merror_handler\u001b[38;5;241m.\u001b[39mcheck_response(response)\n\u001b[0;32m    430\u001b[0m     response[\u001b[38;5;124m\"\u001b[39m\u001b[38;5;124mvalue\u001b[39m\u001b[38;5;124m\"\u001b[39m] \u001b[38;5;241m=\u001b[39m \u001b[38;5;28mself\u001b[39m\u001b[38;5;241m.\u001b[39m_unwrap_value(response\u001b[38;5;241m.\u001b[39mget(\u001b[38;5;124m\"\u001b[39m\u001b[38;5;124mvalue\u001b[39m\u001b[38;5;124m\"\u001b[39m, \u001b[38;5;28;01mNone\u001b[39;00m))\n\u001b[0;32m    431\u001b[0m     \u001b[38;5;28;01mreturn\u001b[39;00m response\n",
      "File \u001b[1;32m~\\anaconda3\\Lib\\site-packages\\selenium\\webdriver\\remote\\errorhandler.py:232\u001b[0m, in \u001b[0;36mErrorHandler.check_response\u001b[1;34m(self, response)\u001b[0m\n\u001b[0;32m    230\u001b[0m         alert_text \u001b[38;5;241m=\u001b[39m value[\u001b[38;5;124m\"\u001b[39m\u001b[38;5;124malert\u001b[39m\u001b[38;5;124m\"\u001b[39m]\u001b[38;5;241m.\u001b[39mget(\u001b[38;5;124m\"\u001b[39m\u001b[38;5;124mtext\u001b[39m\u001b[38;5;124m\"\u001b[39m)\n\u001b[0;32m    231\u001b[0m     \u001b[38;5;28;01mraise\u001b[39;00m exception_class(message, screen, stacktrace, alert_text)  \u001b[38;5;66;03m# type: ignore[call-arg]  # mypy is not smart enough here\u001b[39;00m\n\u001b[1;32m--> 232\u001b[0m \u001b[38;5;28;01mraise\u001b[39;00m exception_class(message, screen, stacktrace)\n",
      "\u001b[1;31mNoSuchElementException\u001b[0m: Message: no such element: Unable to locate element: {\"method\":\"css selector\",\"selector\":\"[name=\"nome\"]\"}\n  (Session info: chrome=136.0.7103.114); For documentation on this error, please visit: https://www.selenium.dev/documentation/webdriver/troubleshooting/errors#no-such-element-exception\nStacktrace:\n\tGetHandleVerifier [0x00F0FC83+61635]\n\tGetHandleVerifier [0x00F0FCC4+61700]\n\t(No symbol) [0x00D305D3]\n\t(No symbol) [0x00D7899E]\n\t(No symbol) [0x00D78D3B]\n\t(No symbol) [0x00DC0E12]\n\t(No symbol) [0x00D9D2E4]\n\t(No symbol) [0x00DBE61B]\n\t(No symbol) [0x00D9D096]\n\t(No symbol) [0x00D6C840]\n\t(No symbol) [0x00D6D6A4]\n\tGetHandleVerifier [0x011945A3+2701795]\n\tGetHandleVerifier [0x0118FD26+2683238]\n\tGetHandleVerifier [0x011AAA6E+2793134]\n\tGetHandleVerifier [0x00F26945+155013]\n\tGetHandleVerifier [0x00F2D02D+181357]\n\tGetHandleVerifier [0x00F174D8+92440]\n\tGetHandleVerifier [0x00F17680+92864]\n\tGetHandleVerifier [0x00F02070+5296]\n\tBaseThreadInitThunk [0x76755D49+25]\n\tRtlInitializeExceptionChain [0x77C0D03B+107]\n\tRtlGetAppContainerNamedObjectPath [0x77C0CFC1+561]\n"
     ]
    }
   ],
   "source": [
    "import pandas as pd\n",
    "\n",
    "tabela = pd.read_excel(\"NotasEmitir.xlsx\")\n",
    "for linha in tabela.index:\n",
    "    navegador.find_element(By.NAME, 'nome').send_keys(tabela.loc[linha, \"Cliente\"])\n",
    "    navegador.find_element(By.NAME, 'endereco').send_keys(tabela.loc[linha, \"Endereço\"])\n",
    "    navegador.find_element(By.NAME, 'bairro').send_keys(tabela.loc[linha, \"Bairro\"])\n",
    "    navegador.find_element(By.NAME, 'municipio').send_keys(tabela.loc[linha, \"Municipio\"])\n",
    "    navegador.find_element(By.NAME, 'cep').send_keys(str(tabela.loc[linha, \"CEP\"]))\n",
    "    navegador.find_element(By.NAME, 'uf').send_keys(tabela.loc[linha, \"UF\"])\n",
    "    navegador.find_element(By.NAME, 'cnpj').send_keys(str(tabela.loc[linha, \"CPF/CNPJ\"]))\n",
    "    navegador.find_element(By.NAME, 'inscricao').send_keys(str(tabela.loc[linha, \"Inscricao Estadual\"]))\n",
    "    navegador.find_element(By.NAME, 'descricao').send_keys(tabela.loc[linha, \"Descrição\"])\n",
    "    navegador.find_element(By.NAME, 'quantidade').send_keys(str(tabela.loc[linha, \"Quantidade\"]))\n",
    "    navegador.find_element(By.NAME, 'valor_unitario').send_keys(str(tabela.loc[linha, \"Valor Unitario\"]))\n",
    "    navegador.find_element(By.NAME, 'total').send_keys(str(tabela.loc[linha, \"Valor Total\"]))\n",
    "    navegador.find_element(By.TAG_NAME, 'button').click()\n",
    "    navegador.refresh()\n",
    "navegador.quit()"
   ]
  },
  {
   "cell_type": "code",
   "execution_count": null,
   "id": "6d79272a-0258-4072-a814-6f0565910183",
   "metadata": {},
   "outputs": [],
   "source": []
  }
 ],
 "metadata": {
  "kernelspec": {
   "display_name": "Python 3 (ipykernel)",
   "language": "python",
   "name": "python3"
  },
  "language_info": {
   "codemirror_mode": {
    "name": "ipython",
    "version": 3
   },
   "file_extension": ".py",
   "mimetype": "text/x-python",
   "name": "python",
   "nbconvert_exporter": "python",
   "pygments_lexer": "ipython3",
   "version": "3.12.7"
  }
 },
 "nbformat": 4,
 "nbformat_minor": 5
}
